{
 "cells": [
  {
   "cell_type": "code",
   "execution_count": 1,
   "id": "fbfaf944",
   "metadata": {},
   "outputs": [],
   "source": [
    "import numpy as np\n",
    "import pandas as pd"
   ]
  },
  {
   "cell_type": "code",
   "execution_count": 2,
   "id": "30f7f9d2",
   "metadata": {},
   "outputs": [],
   "source": [
    "df = pd.read_csv('ticket_dataset_MOW.csv')"
   ]
  },
  {
   "cell_type": "code",
   "execution_count": 3,
   "id": "2a70fd18",
   "metadata": {},
   "outputs": [],
   "source": [
    "codes = pd.read_excel('RussianAirportCodes.xlsx')"
   ]
  },
  {
   "cell_type": "code",
   "execution_count": 4,
   "id": "2b9add46",
   "metadata": {},
   "outputs": [],
   "source": [
    "world_codes = pd.read_csv('airport-codes_csv.csv')"
   ]
  },
  {
   "cell_type": "code",
   "execution_count": 5,
   "id": "1b6ff801",
   "metadata": {},
   "outputs": [],
   "source": [
    "world_codes ['destination'] = world_codes['iata_code']"
   ]
  },
  {
   "cell_type": "code",
   "execution_count": 6,
   "id": "9a033c05",
   "metadata": {},
   "outputs": [],
   "source": [
    "df = pd.merge(df,world_codes,on=['destination'], how='left') # Склеиваем датасеты"
   ]
  },
  {
   "cell_type": "code",
   "execution_count": 20,
   "id": "d172d998",
   "metadata": {},
   "outputs": [],
   "source": [
    "del df['iata_code']"
   ]
  },
  {
   "cell_type": "code",
   "execution_count": 21,
   "id": "09dcbcc0",
   "metadata": {},
   "outputs": [
    {
     "data": {
      "text/html": [
       "<div>\n",
       "<style scoped>\n",
       "    .dataframe tbody tr th:only-of-type {\n",
       "        vertical-align: middle;\n",
       "    }\n",
       "\n",
       "    .dataframe tbody tr th {\n",
       "        vertical-align: top;\n",
       "    }\n",
       "\n",
       "    .dataframe thead th {\n",
       "        text-align: right;\n",
       "    }\n",
       "</style>\n",
       "<table border=\"1\" class=\"dataframe\">\n",
       "  <thead>\n",
       "    <tr style=\"text-align: right;\">\n",
       "      <th></th>\n",
       "      <th>value</th>\n",
       "      <th>origin</th>\n",
       "      <th>number_of_changes</th>\n",
       "      <th>web_source</th>\n",
       "      <th>destination</th>\n",
       "      <th>depart_date</th>\n",
       "      <th>airline</th>\n",
       "      <th>name</th>\n",
       "      <th>iso_country</th>\n",
       "    </tr>\n",
       "  </thead>\n",
       "  <tbody>\n",
       "    <tr>\n",
       "      <th>0</th>\n",
       "      <td>10570.0</td>\n",
       "      <td>MOW</td>\n",
       "      <td>1.0</td>\n",
       "      <td>Kiwi.com</td>\n",
       "      <td>SPU</td>\n",
       "      <td>2022-02-25</td>\n",
       "      <td>N4</td>\n",
       "      <td>Split Airport</td>\n",
       "      <td>HR</td>\n",
       "    </tr>\n",
       "    <tr>\n",
       "      <th>1</th>\n",
       "      <td>7290.0</td>\n",
       "      <td>MOW</td>\n",
       "      <td>2.0</td>\n",
       "      <td>Kiwi.com</td>\n",
       "      <td>SZF</td>\n",
       "      <td>2022-02-23</td>\n",
       "      <td>A4</td>\n",
       "      <td>Samsun ÃarÅamba Airport</td>\n",
       "      <td>TR</td>\n",
       "    </tr>\n",
       "    <tr>\n",
       "      <th>2</th>\n",
       "      <td>8130.0</td>\n",
       "      <td>MOW</td>\n",
       "      <td>1.0</td>\n",
       "      <td>KupiBilet.ru</td>\n",
       "      <td>ABA</td>\n",
       "      <td>2022-02-21</td>\n",
       "      <td>WZ</td>\n",
       "      <td>Abakan Airport</td>\n",
       "      <td>RU</td>\n",
       "    </tr>\n",
       "    <tr>\n",
       "      <th>3</th>\n",
       "      <td>8220.0</td>\n",
       "      <td>MOW</td>\n",
       "      <td>1.0</td>\n",
       "      <td>Kiwi.com</td>\n",
       "      <td>CAI</td>\n",
       "      <td>2022-02-28</td>\n",
       "      <td>DP</td>\n",
       "      <td>Cairo International Airport</td>\n",
       "      <td>EG</td>\n",
       "    </tr>\n",
       "    <tr>\n",
       "      <th>4</th>\n",
       "      <td>6819.0</td>\n",
       "      <td>MOW</td>\n",
       "      <td>2.0</td>\n",
       "      <td>Kiwi.com</td>\n",
       "      <td>GZT</td>\n",
       "      <td>2022-02-16</td>\n",
       "      <td>DP</td>\n",
       "      <td>Gaziantep International Airport</td>\n",
       "      <td>TR</td>\n",
       "    </tr>\n",
       "    <tr>\n",
       "      <th>...</th>\n",
       "      <td>...</td>\n",
       "      <td>...</td>\n",
       "      <td>...</td>\n",
       "      <td>...</td>\n",
       "      <td>...</td>\n",
       "      <td>...</td>\n",
       "      <td>...</td>\n",
       "      <td>...</td>\n",
       "      <td>...</td>\n",
       "    </tr>\n",
       "    <tr>\n",
       "      <th>4795</th>\n",
       "      <td>23341.0</td>\n",
       "      <td>MOW</td>\n",
       "      <td>1.0</td>\n",
       "      <td>Mytrip.com</td>\n",
       "      <td>HKG</td>\n",
       "      <td>2022-12-28</td>\n",
       "      <td>TK</td>\n",
       "      <td>Hong Kong International Airport Kai Tak</td>\n",
       "      <td>HK</td>\n",
       "    </tr>\n",
       "    <tr>\n",
       "      <th>4796</th>\n",
       "      <td>44964.0</td>\n",
       "      <td>MOW</td>\n",
       "      <td>3.0</td>\n",
       "      <td>Tickets.ru</td>\n",
       "      <td>PQC</td>\n",
       "      <td>2022-12-28</td>\n",
       "      <td>QR</td>\n",
       "      <td>Phu Quoc International Airport</td>\n",
       "      <td>VN</td>\n",
       "    </tr>\n",
       "    <tr>\n",
       "      <th>4797</th>\n",
       "      <td>5830.0</td>\n",
       "      <td>MOW</td>\n",
       "      <td>0.0</td>\n",
       "      <td>S7 Airlines</td>\n",
       "      <td>EVN</td>\n",
       "      <td>2022-12-06</td>\n",
       "      <td>S7</td>\n",
       "      <td>Zvartnots International Airport</td>\n",
       "      <td>AM</td>\n",
       "    </tr>\n",
       "    <tr>\n",
       "      <th>4798</th>\n",
       "      <td>8443.0</td>\n",
       "      <td>MOW</td>\n",
       "      <td>0.0</td>\n",
       "      <td>OneTwoTrip</td>\n",
       "      <td>NUX</td>\n",
       "      <td>2022-12-16</td>\n",
       "      <td>S7</td>\n",
       "      <td>Novy Urengoy Airport</td>\n",
       "      <td>RU</td>\n",
       "    </tr>\n",
       "    <tr>\n",
       "      <th>4799</th>\n",
       "      <td>13854.0</td>\n",
       "      <td>MOW</td>\n",
       "      <td>1.0</td>\n",
       "      <td>S7 Airlines</td>\n",
       "      <td>PKC</td>\n",
       "      <td>2022-12-01</td>\n",
       "      <td>S7</td>\n",
       "      <td>Yelizovo Airport</td>\n",
       "      <td>RU</td>\n",
       "    </tr>\n",
       "  </tbody>\n",
       "</table>\n",
       "<p>4800 rows × 9 columns</p>\n",
       "</div>"
      ],
      "text/plain": [
       "        value origin  number_of_changes    web_source destination depart_date  \\\n",
       "0     10570.0    MOW                1.0      Kiwi.com         SPU  2022-02-25   \n",
       "1      7290.0    MOW                2.0      Kiwi.com         SZF  2022-02-23   \n",
       "2      8130.0    MOW                1.0  KupiBilet.ru         ABA  2022-02-21   \n",
       "3      8220.0    MOW                1.0      Kiwi.com         CAI  2022-02-28   \n",
       "4      6819.0    MOW                2.0      Kiwi.com         GZT  2022-02-16   \n",
       "...       ...    ...                ...           ...         ...         ...   \n",
       "4795  23341.0    MOW                1.0    Mytrip.com         HKG  2022-12-28   \n",
       "4796  44964.0    MOW                3.0    Tickets.ru         PQC  2022-12-28   \n",
       "4797   5830.0    MOW                0.0   S7 Airlines         EVN  2022-12-06   \n",
       "4798   8443.0    MOW                0.0    OneTwoTrip         NUX  2022-12-16   \n",
       "4799  13854.0    MOW                1.0   S7 Airlines         PKC  2022-12-01   \n",
       "\n",
       "     airline                                     name iso_country  \n",
       "0         N4                            Split Airport          HR  \n",
       "1         A4                Samsun ÃarÅamba Airport          TR  \n",
       "2         WZ                           Abakan Airport          RU  \n",
       "3         DP              Cairo International Airport          EG  \n",
       "4         DP          Gaziantep International Airport          TR  \n",
       "...      ...                                      ...         ...  \n",
       "4795      TK  Hong Kong International Airport Kai Tak          HK  \n",
       "4796      QR           Phu Quoc International Airport          VN  \n",
       "4797      S7          Zvartnots International Airport          AM  \n",
       "4798      S7                     Novy Urengoy Airport          RU  \n",
       "4799      S7                         Yelizovo Airport          RU  \n",
       "\n",
       "[4800 rows x 9 columns]"
      ]
     },
     "execution_count": 21,
     "metadata": {},
     "output_type": "execute_result"
    }
   ],
   "source": [
    "df"
   ]
  },
  {
   "cell_type": "code",
   "execution_count": 22,
   "id": "74fa1993",
   "metadata": {},
   "outputs": [
    {
     "data": {
      "text/plain": [
       "array(['ABA', 'ADH', 'AMV', 'DYR', 'AAQ', 'KVK', 'ARH', 'ASF', 'ACS',\n",
       "       'BAX', 'EGO', 'BCX', 'BQS', 'TGP', 'BTK', 'BZK', 'UUA', 'VLU',\n",
       "       'VUS', 'VVO', 'OGZ', 'VOG', 'VGD', 'VKT', 'VOZ', 'GDZ', 'GRV',\n",
       "       'DKS', 'SVX', 'EIE', 'IWA', 'IAA', 'IJK', 'INA', 'IKT', 'JOK',\n",
       "       'KZN', 'KGD', 'KEJ', 'KVX', 'KGP', 'KXK', 'KMW', 'KSZ', 'KRR',\n",
       "       'KJA', 'KRO', 'BVV', 'URS', 'KYZ', 'LDG', 'LPK', 'GDX', 'GDG',\n",
       "       'MQF', 'MCX', 'MRV', 'MJZ', 'BKA', 'VKO', 'DME', 'SVO', 'MMK',\n",
       "       'NYM', 'NAL', 'NNM', 'CNN', 'NJC', 'NBC', 'GOJ', 'NOZ', 'OVB',\n",
       "       'NUX', 'NGL', 'NSK', 'NOJ', 'OKT', 'OMS', 'OEL', 'REN', 'OSW',\n",
       "       'OHH', 'OHO', 'PWE', 'PEZ', 'PEE', 'PES', 'PKC', 'PEX', 'PVS',\n",
       "       'PKV', nan, 'RAT', 'ROV', 'RYB', 'RZN', 'SLY', 'KUF', 'LED', 'SKX',\n",
       "       'RTW', 'LNX', 'GVN', 'CSH', 'AER', 'STW', 'SGC', 'SCW', 'TBW',\n",
       "       'IKS', 'TOX', 'TOF', 'TYD', 'TJM', 'PYJ', 'UUD', 'ULY', 'UKX',\n",
       "       'USK', 'UFA', 'UCT', 'KHV', 'HMA', 'HTG', 'VLK', 'CSY', 'CEK',\n",
       "       'CEE', 'CYX', 'HTA', 'CKH', 'EKS', 'CKL', 'ESL', 'DEE', 'UUS',\n",
       "       'YKS', 'IAR'], dtype=object)"
      ]
     },
     "execution_count": 22,
     "metadata": {},
     "output_type": "execute_result"
    }
   ],
   "source": [
    "codes['Код ИАТА'].unique()"
   ]
  },
  {
   "cell_type": "code",
   "execution_count": 24,
   "id": "33d7609a",
   "metadata": {},
   "outputs": [],
   "source": [
    "codes['destination'] = codes['Код ИАТА']"
   ]
  },
  {
   "cell_type": "code",
   "execution_count": 25,
   "id": "3cbb0801",
   "metadata": {},
   "outputs": [],
   "source": [
    "df = pd.merge(df,codes,on=['destination'], how='left') # Склеиваем датасеты"
   ]
  },
  {
   "cell_type": "code",
   "execution_count": 28,
   "id": "d75f20d3",
   "metadata": {},
   "outputs": [],
   "source": [
    "del df['Населенный пункт']\n",
    "del df['Название аэропорта']\n",
    "del df['Код ИАТА']"
   ]
  },
  {
   "cell_type": "code",
   "execution_count": 29,
   "id": "07d9d9fd",
   "metadata": {},
   "outputs": [
    {
     "data": {
      "text/html": [
       "<div>\n",
       "<style scoped>\n",
       "    .dataframe tbody tr th:only-of-type {\n",
       "        vertical-align: middle;\n",
       "    }\n",
       "\n",
       "    .dataframe tbody tr th {\n",
       "        vertical-align: top;\n",
       "    }\n",
       "\n",
       "    .dataframe thead th {\n",
       "        text-align: right;\n",
       "    }\n",
       "</style>\n",
       "<table border=\"1\" class=\"dataframe\">\n",
       "  <thead>\n",
       "    <tr style=\"text-align: right;\">\n",
       "      <th></th>\n",
       "      <th>value</th>\n",
       "      <th>origin</th>\n",
       "      <th>number_of_changes</th>\n",
       "      <th>web_source</th>\n",
       "      <th>destination</th>\n",
       "      <th>depart_date</th>\n",
       "      <th>airline</th>\n",
       "      <th>name</th>\n",
       "      <th>iso_country</th>\n",
       "    </tr>\n",
       "  </thead>\n",
       "  <tbody>\n",
       "    <tr>\n",
       "      <th>0</th>\n",
       "      <td>10570.0</td>\n",
       "      <td>MOW</td>\n",
       "      <td>1.0</td>\n",
       "      <td>Kiwi.com</td>\n",
       "      <td>SPU</td>\n",
       "      <td>2022-02-25</td>\n",
       "      <td>N4</td>\n",
       "      <td>Split Airport</td>\n",
       "      <td>HR</td>\n",
       "    </tr>\n",
       "    <tr>\n",
       "      <th>1</th>\n",
       "      <td>7290.0</td>\n",
       "      <td>MOW</td>\n",
       "      <td>2.0</td>\n",
       "      <td>Kiwi.com</td>\n",
       "      <td>SZF</td>\n",
       "      <td>2022-02-23</td>\n",
       "      <td>A4</td>\n",
       "      <td>Samsun ÃarÅamba Airport</td>\n",
       "      <td>TR</td>\n",
       "    </tr>\n",
       "    <tr>\n",
       "      <th>2</th>\n",
       "      <td>8130.0</td>\n",
       "      <td>MOW</td>\n",
       "      <td>1.0</td>\n",
       "      <td>KupiBilet.ru</td>\n",
       "      <td>ABA</td>\n",
       "      <td>2022-02-21</td>\n",
       "      <td>WZ</td>\n",
       "      <td>Abakan Airport</td>\n",
       "      <td>RU</td>\n",
       "    </tr>\n",
       "    <tr>\n",
       "      <th>3</th>\n",
       "      <td>8220.0</td>\n",
       "      <td>MOW</td>\n",
       "      <td>1.0</td>\n",
       "      <td>Kiwi.com</td>\n",
       "      <td>CAI</td>\n",
       "      <td>2022-02-28</td>\n",
       "      <td>DP</td>\n",
       "      <td>Cairo International Airport</td>\n",
       "      <td>EG</td>\n",
       "    </tr>\n",
       "    <tr>\n",
       "      <th>4</th>\n",
       "      <td>6819.0</td>\n",
       "      <td>MOW</td>\n",
       "      <td>2.0</td>\n",
       "      <td>Kiwi.com</td>\n",
       "      <td>GZT</td>\n",
       "      <td>2022-02-16</td>\n",
       "      <td>DP</td>\n",
       "      <td>Gaziantep International Airport</td>\n",
       "      <td>TR</td>\n",
       "    </tr>\n",
       "    <tr>\n",
       "      <th>...</th>\n",
       "      <td>...</td>\n",
       "      <td>...</td>\n",
       "      <td>...</td>\n",
       "      <td>...</td>\n",
       "      <td>...</td>\n",
       "      <td>...</td>\n",
       "      <td>...</td>\n",
       "      <td>...</td>\n",
       "      <td>...</td>\n",
       "    </tr>\n",
       "    <tr>\n",
       "      <th>4795</th>\n",
       "      <td>23341.0</td>\n",
       "      <td>MOW</td>\n",
       "      <td>1.0</td>\n",
       "      <td>Mytrip.com</td>\n",
       "      <td>HKG</td>\n",
       "      <td>2022-12-28</td>\n",
       "      <td>TK</td>\n",
       "      <td>Hong Kong International Airport Kai Tak</td>\n",
       "      <td>HK</td>\n",
       "    </tr>\n",
       "    <tr>\n",
       "      <th>4796</th>\n",
       "      <td>44964.0</td>\n",
       "      <td>MOW</td>\n",
       "      <td>3.0</td>\n",
       "      <td>Tickets.ru</td>\n",
       "      <td>PQC</td>\n",
       "      <td>2022-12-28</td>\n",
       "      <td>QR</td>\n",
       "      <td>Phu Quoc International Airport</td>\n",
       "      <td>VN</td>\n",
       "    </tr>\n",
       "    <tr>\n",
       "      <th>4797</th>\n",
       "      <td>5830.0</td>\n",
       "      <td>MOW</td>\n",
       "      <td>0.0</td>\n",
       "      <td>S7 Airlines</td>\n",
       "      <td>EVN</td>\n",
       "      <td>2022-12-06</td>\n",
       "      <td>S7</td>\n",
       "      <td>Zvartnots International Airport</td>\n",
       "      <td>AM</td>\n",
       "    </tr>\n",
       "    <tr>\n",
       "      <th>4798</th>\n",
       "      <td>8443.0</td>\n",
       "      <td>MOW</td>\n",
       "      <td>0.0</td>\n",
       "      <td>OneTwoTrip</td>\n",
       "      <td>NUX</td>\n",
       "      <td>2022-12-16</td>\n",
       "      <td>S7</td>\n",
       "      <td>Novy Urengoy Airport</td>\n",
       "      <td>RU</td>\n",
       "    </tr>\n",
       "    <tr>\n",
       "      <th>4799</th>\n",
       "      <td>13854.0</td>\n",
       "      <td>MOW</td>\n",
       "      <td>1.0</td>\n",
       "      <td>S7 Airlines</td>\n",
       "      <td>PKC</td>\n",
       "      <td>2022-12-01</td>\n",
       "      <td>S7</td>\n",
       "      <td>Yelizovo Airport</td>\n",
       "      <td>RU</td>\n",
       "    </tr>\n",
       "  </tbody>\n",
       "</table>\n",
       "<p>4800 rows × 9 columns</p>\n",
       "</div>"
      ],
      "text/plain": [
       "        value origin  number_of_changes    web_source destination depart_date  \\\n",
       "0     10570.0    MOW                1.0      Kiwi.com         SPU  2022-02-25   \n",
       "1      7290.0    MOW                2.0      Kiwi.com         SZF  2022-02-23   \n",
       "2      8130.0    MOW                1.0  KupiBilet.ru         ABA  2022-02-21   \n",
       "3      8220.0    MOW                1.0      Kiwi.com         CAI  2022-02-28   \n",
       "4      6819.0    MOW                2.0      Kiwi.com         GZT  2022-02-16   \n",
       "...       ...    ...                ...           ...         ...         ...   \n",
       "4795  23341.0    MOW                1.0    Mytrip.com         HKG  2022-12-28   \n",
       "4796  44964.0    MOW                3.0    Tickets.ru         PQC  2022-12-28   \n",
       "4797   5830.0    MOW                0.0   S7 Airlines         EVN  2022-12-06   \n",
       "4798   8443.0    MOW                0.0    OneTwoTrip         NUX  2022-12-16   \n",
       "4799  13854.0    MOW                1.0   S7 Airlines         PKC  2022-12-01   \n",
       "\n",
       "     airline                                     name iso_country  \n",
       "0         N4                            Split Airport          HR  \n",
       "1         A4                Samsun ÃarÅamba Airport          TR  \n",
       "2         WZ                           Abakan Airport          RU  \n",
       "3         DP              Cairo International Airport          EG  \n",
       "4         DP          Gaziantep International Airport          TR  \n",
       "...      ...                                      ...         ...  \n",
       "4795      TK  Hong Kong International Airport Kai Tak          HK  \n",
       "4796      QR           Phu Quoc International Airport          VN  \n",
       "4797      S7          Zvartnots International Airport          AM  \n",
       "4798      S7                     Novy Urengoy Airport          RU  \n",
       "4799      S7                         Yelizovo Airport          RU  \n",
       "\n",
       "[4800 rows x 9 columns]"
      ]
     },
     "execution_count": 29,
     "metadata": {},
     "output_type": "execute_result"
    }
   ],
   "source": [
    "df"
   ]
  },
  {
   "cell_type": "code",
   "execution_count": 30,
   "id": "a3ebdc80",
   "metadata": {},
   "outputs": [],
   "source": [
    "def airport (iata):\n",
    "    if iata == 'Foreign':\n",
    "        return 'Foreign'\n",
    "    else:\n",
    "        return 'Russian'"
   ]
  },
  {
   "cell_type": "code",
   "execution_count": 31,
   "id": "0ea5af28",
   "metadata": {},
   "outputs": [],
   "source": [
    "df['month'] = pd.to_datetime(df['depart_date']).dt.month"
   ]
  },
  {
   "cell_type": "markdown",
   "id": "4ff3b89a",
   "metadata": {},
   "source": [
    "Датасет подготовлен к анализу"
   ]
  },
  {
   "cell_type": "code",
   "execution_count": 33,
   "id": "afc64e5f",
   "metadata": {},
   "outputs": [
    {
     "data": {
      "text/html": [
       "<div>\n",
       "<style scoped>\n",
       "    .dataframe tbody tr th:only-of-type {\n",
       "        vertical-align: middle;\n",
       "    }\n",
       "\n",
       "    .dataframe tbody tr th {\n",
       "        vertical-align: top;\n",
       "    }\n",
       "\n",
       "    .dataframe thead tr th {\n",
       "        text-align: left;\n",
       "    }\n",
       "\n",
       "    .dataframe thead tr:last-of-type th {\n",
       "        text-align: right;\n",
       "    }\n",
       "</style>\n",
       "<table border=\"1\" class=\"dataframe\">\n",
       "  <thead>\n",
       "    <tr>\n",
       "      <th></th>\n",
       "      <th colspan=\"2\" halign=\"left\">mean</th>\n",
       "      <th colspan=\"2\" halign=\"left\">median</th>\n",
       "    </tr>\n",
       "    <tr>\n",
       "      <th></th>\n",
       "      <th>number_of_changes</th>\n",
       "      <th>value</th>\n",
       "      <th>number_of_changes</th>\n",
       "      <th>value</th>\n",
       "    </tr>\n",
       "    <tr>\n",
       "      <th>month</th>\n",
       "      <th></th>\n",
       "      <th></th>\n",
       "      <th></th>\n",
       "      <th></th>\n",
       "    </tr>\n",
       "  </thead>\n",
       "  <tbody>\n",
       "    <tr>\n",
       "      <th>2</th>\n",
       "      <td>1.317365</td>\n",
       "      <td>7873.886228</td>\n",
       "      <td>1.0</td>\n",
       "      <td>7682.0</td>\n",
       "    </tr>\n",
       "    <tr>\n",
       "      <th>3</th>\n",
       "      <td>1.237525</td>\n",
       "      <td>7629.804391</td>\n",
       "      <td>1.0</td>\n",
       "      <td>7165.0</td>\n",
       "    </tr>\n",
       "    <tr>\n",
       "      <th>4</th>\n",
       "      <td>1.209163</td>\n",
       "      <td>10132.990040</td>\n",
       "      <td>1.0</td>\n",
       "      <td>8546.5</td>\n",
       "    </tr>\n",
       "    <tr>\n",
       "      <th>5</th>\n",
       "      <td>1.193227</td>\n",
       "      <td>11925.207171</td>\n",
       "      <td>1.0</td>\n",
       "      <td>9310.5</td>\n",
       "    </tr>\n",
       "    <tr>\n",
       "      <th>6</th>\n",
       "      <td>1.143426</td>\n",
       "      <td>13935.183267</td>\n",
       "      <td>1.0</td>\n",
       "      <td>10539.0</td>\n",
       "    </tr>\n",
       "    <tr>\n",
       "      <th>7</th>\n",
       "      <td>1.163347</td>\n",
       "      <td>15370.874502</td>\n",
       "      <td>1.0</td>\n",
       "      <td>11179.5</td>\n",
       "    </tr>\n",
       "    <tr>\n",
       "      <th>8</th>\n",
       "      <td>1.249004</td>\n",
       "      <td>17958.101594</td>\n",
       "      <td>1.0</td>\n",
       "      <td>12186.5</td>\n",
       "    </tr>\n",
       "    <tr>\n",
       "      <th>9</th>\n",
       "      <td>1.177885</td>\n",
       "      <td>18668.810096</td>\n",
       "      <td>1.0</td>\n",
       "      <td>11090.5</td>\n",
       "    </tr>\n",
       "    <tr>\n",
       "      <th>10</th>\n",
       "      <td>1.035928</td>\n",
       "      <td>15535.185629</td>\n",
       "      <td>1.0</td>\n",
       "      <td>9069.0</td>\n",
       "    </tr>\n",
       "    <tr>\n",
       "      <th>11</th>\n",
       "      <td>1.298851</td>\n",
       "      <td>21575.877395</td>\n",
       "      <td>1.0</td>\n",
       "      <td>14671.0</td>\n",
       "    </tr>\n",
       "    <tr>\n",
       "      <th>12</th>\n",
       "      <td>1.227437</td>\n",
       "      <td>23781.909747</td>\n",
       "      <td>1.0</td>\n",
       "      <td>16157.0</td>\n",
       "    </tr>\n",
       "  </tbody>\n",
       "</table>\n",
       "</div>"
      ],
      "text/plain": [
       "                   mean                          median         \n",
       "      number_of_changes         value number_of_changes    value\n",
       "month                                                           \n",
       "2              1.317365   7873.886228               1.0   7682.0\n",
       "3              1.237525   7629.804391               1.0   7165.0\n",
       "4              1.209163  10132.990040               1.0   8546.5\n",
       "5              1.193227  11925.207171               1.0   9310.5\n",
       "6              1.143426  13935.183267               1.0  10539.0\n",
       "7              1.163347  15370.874502               1.0  11179.5\n",
       "8              1.249004  17958.101594               1.0  12186.5\n",
       "9              1.177885  18668.810096               1.0  11090.5\n",
       "10             1.035928  15535.185629               1.0   9069.0\n",
       "11             1.298851  21575.877395               1.0  14671.0\n",
       "12             1.227437  23781.909747               1.0  16157.0"
      ]
     },
     "execution_count": 33,
     "metadata": {},
     "output_type": "execute_result"
    }
   ],
   "source": [
    "df.pivot_table(index = 'month', values = ['value', 'number_of_changes'], aggfunc = ['mean', 'median'])"
   ]
  },
  {
   "cell_type": "markdown",
   "id": "e520ab37",
   "metadata": {},
   "source": [
    "Первым делом, проанализируем наши данные на выбросы, найдя доверительный интервал."
   ]
  },
  {
   "cell_type": "code",
   "execution_count": 34,
   "id": "e6f7303b",
   "metadata": {},
   "outputs": [],
   "source": [
    "import pandas_datareader as pdr\n",
    "from datetime import datetime"
   ]
  },
  {
   "cell_type": "code",
   "execution_count": 35,
   "id": "e9c6d105",
   "metadata": {},
   "outputs": [
    {
     "data": {
      "text/plain": [
       "<AxesSubplot:>"
      ]
     },
     "execution_count": 35,
     "metadata": {},
     "output_type": "execute_result"
    },
    {
     "data": {
      "image/png": "[encoded data removed]",
      "text/plain": [
       "<Figure size 432x288 with 1 Axes>"
      ]
     },
     "metadata": {
      "needs_background": "light"
     },
     "output_type": "display_data"
    }
   ],
   "source": [
    "df['value'].plot()"
   ]
  },
  {
   "cell_type": "code",
   "execution_count": 36,
   "id": "4aba5812",
   "metadata": {},
   "outputs": [
    {
     "data": {
      "text/plain": [
       "<AxesSubplot:>"
      ]
     },
     "execution_count": 36,
     "metadata": {},
     "output_type": "execute_result"
    },
    {
     "data": {
      "image/png": "[encoded data removed]",
      "text/plain": [
       "<Figure size 432x288 with 1 Axes>"
      ]
     },
     "metadata": {
      "needs_background": "light"
     },
     "output_type": "display_data"
    }
   ],
   "source": [
    "df['value'].hist()"
   ]
  },
  {
   "cell_type": "code",
   "execution_count": 37,
   "id": "4bf97215",
   "metadata": {},
   "outputs": [],
   "source": [
    "import seaborn as sns\n",
    "import scipy.special as sps\n",
    "from scipy import * \n",
    "from scipy import stats\n",
    "from scipy.stats import kurtosis\n",
    "from scipy.stats import skew\n",
    "import statsmodels.api as sm\n",
    "import matplotlib.pyplot as plt"
   ]
  },
  {
   "cell_type": "code",
   "execution_count": 38,
   "id": "1080b7b9",
   "metadata": {},
   "outputs": [
    {
     "data": {
      "text/plain": [
       "Text(0.5, 1.0, 'QQ plot')"
      ]
     },
     "execution_count": 38,
     "metadata": {},
     "output_type": "execute_result"
    },
    {
     "data": {
      "image/png": "[encoded data removed]",
      "text/plain": [
       "<Figure size 432x288 with 1 Axes>"
      ]
     },
     "metadata": {
      "needs_background": "light"
     },
     "output_type": "display_data"
    }
   ],
   "source": [
    "sm.qqplot(df['value'], fit = True)\n",
    "plt.title('QQ plot')"
   ]
  },
  {
   "cell_type": "code",
   "execution_count": 39,
   "id": "316d3aff",
   "metadata": {},
   "outputs": [],
   "source": [
    "def my_norm_confidence(df=df, column = 'value', alpha = 0.99):\n",
    "    interval = stats.norm.interval(alpha, loc = df[column].mean(), scale = df[column].std())\n",
    "    return interval"
   ]
  },
  {
   "cell_type": "code",
   "execution_count": 40,
   "id": "a8a2427a",
   "metadata": {},
   "outputs": [],
   "source": [
    "confidence = my_norm_confidence()"
   ]
  },
  {
   "cell_type": "code",
   "execution_count": 41,
   "id": "c3edd333",
   "metadata": {},
   "outputs": [
    {
     "data": {
      "text/plain": [
       "Text(0.5, 1.0, 'Доверительный интервал')"
      ]
     },
     "execution_count": 41,
     "metadata": {},
     "output_type": "execute_result"
    },
    {
     "data": {
      "image/png": "[encoded data removed]",
      "text/plain": [
       "<Figure size 432x288 with 1 Axes>"
      ]
     },
     "metadata": {
      "needs_background": "light"
     },
     "output_type": "display_data"
    }
   ],
   "source": [
    "df.value.plot()\n",
    "plt.axhline(y = confidence[1], color = 'g', linestyle = '-')\n",
    "plt.axhline(y = confidence[0], color = 'r', linestyle = '-')\n",
    "plt.title('Доверительный интервал')"
   ]
  },
  {
   "cell_type": "markdown",
   "id": "52ef90d6",
   "metadata": {},
   "source": [
    "Далее найдём выбросы"
   ]
  },
  {
   "cell_type": "code",
   "execution_count": 42,
   "id": "393618f7",
   "metadata": {},
   "outputs": [
    {
     "name": "stdout",
     "output_type": "stream",
     "text": [
      "-20053.433019034226\n",
      "48278.86718570089\n"
     ]
    }
   ],
   "source": [
    "mean = df['value'].mean()\n",
    "std = df['value'].std()\n",
    "std_bottom = mean - 2.5 * std\n",
    "std_up = mean + 2.5 * std\n",
    "print(std_bottom)\n",
    "print(std_up)"
   ]
  },
  {
   "cell_type": "code",
   "execution_count": 43,
   "id": "3fdd9734",
   "metadata": {},
   "outputs": [
    {
     "data": {
      "text/plain": [
       "(100, 10)"
      ]
     },
     "execution_count": 43,
     "metadata": {},
     "output_type": "execute_result"
    }
   ],
   "source": [
    "df[df['value'] > std_up].shape"
   ]
  },
  {
   "cell_type": "markdown",
   "id": "e0583acc",
   "metadata": {},
   "source": [
    "Таким образом, в нашем датасете 100 выбросов (100 строк)\n",
    "\n",
    "Теперь посмотрим как отличаются меры центральной тенденции в датасете без выбросов от датасета с выбросами."
   ]
  },
  {
   "cell_type": "code",
   "execution_count": 44,
   "id": "b423f374",
   "metadata": {},
   "outputs": [],
   "source": [
    "no_outs = df[df['value']<= std_up]"
   ]
  },
  {
   "cell_type": "code",
   "execution_count": 45,
   "id": "099f98e4",
   "metadata": {},
   "outputs": [
    {
     "data": {
      "text/html": [
       "<div>\n",
       "<style scoped>\n",
       "    .dataframe tbody tr th:only-of-type {\n",
       "        vertical-align: middle;\n",
       "    }\n",
       "\n",
       "    .dataframe tbody tr th {\n",
       "        vertical-align: top;\n",
       "    }\n",
       "\n",
       "    .dataframe thead tr th {\n",
       "        text-align: left;\n",
       "    }\n",
       "\n",
       "    .dataframe thead tr:last-of-type th {\n",
       "        text-align: right;\n",
       "    }\n",
       "</style>\n",
       "<table border=\"1\" class=\"dataframe\">\n",
       "  <thead>\n",
       "    <tr>\n",
       "      <th></th>\n",
       "      <th colspan=\"2\" halign=\"left\">mean</th>\n",
       "      <th colspan=\"2\" halign=\"left\">median</th>\n",
       "    </tr>\n",
       "    <tr>\n",
       "      <th></th>\n",
       "      <th>number_of_changes</th>\n",
       "      <th>value</th>\n",
       "      <th>number_of_changes</th>\n",
       "      <th>value</th>\n",
       "    </tr>\n",
       "    <tr>\n",
       "      <th>month</th>\n",
       "      <th></th>\n",
       "      <th></th>\n",
       "      <th></th>\n",
       "      <th></th>\n",
       "    </tr>\n",
       "  </thead>\n",
       "  <tbody>\n",
       "    <tr>\n",
       "      <th>2</th>\n",
       "      <td>1.317365</td>\n",
       "      <td>7873.886228</td>\n",
       "      <td>1.0</td>\n",
       "      <td>7682.0</td>\n",
       "    </tr>\n",
       "    <tr>\n",
       "      <th>3</th>\n",
       "      <td>1.237525</td>\n",
       "      <td>7629.804391</td>\n",
       "      <td>1.0</td>\n",
       "      <td>7165.0</td>\n",
       "    </tr>\n",
       "    <tr>\n",
       "      <th>4</th>\n",
       "      <td>1.209163</td>\n",
       "      <td>10132.990040</td>\n",
       "      <td>1.0</td>\n",
       "      <td>8546.5</td>\n",
       "    </tr>\n",
       "    <tr>\n",
       "      <th>5</th>\n",
       "      <td>1.193227</td>\n",
       "      <td>11925.207171</td>\n",
       "      <td>1.0</td>\n",
       "      <td>9310.5</td>\n",
       "    </tr>\n",
       "    <tr>\n",
       "      <th>6</th>\n",
       "      <td>1.143426</td>\n",
       "      <td>13935.183267</td>\n",
       "      <td>1.0</td>\n",
       "      <td>10539.0</td>\n",
       "    </tr>\n",
       "    <tr>\n",
       "      <th>7</th>\n",
       "      <td>1.163347</td>\n",
       "      <td>15370.874502</td>\n",
       "      <td>1.0</td>\n",
       "      <td>11179.5</td>\n",
       "    </tr>\n",
       "    <tr>\n",
       "      <th>8</th>\n",
       "      <td>1.218557</td>\n",
       "      <td>16730.134021</td>\n",
       "      <td>1.0</td>\n",
       "      <td>11920.0</td>\n",
       "    </tr>\n",
       "    <tr>\n",
       "      <th>9</th>\n",
       "      <td>1.119593</td>\n",
       "      <td>14791.987277</td>\n",
       "      <td>1.0</td>\n",
       "      <td>10426.0</td>\n",
       "    </tr>\n",
       "    <tr>\n",
       "      <th>10</th>\n",
       "      <td>0.987578</td>\n",
       "      <td>13844.459627</td>\n",
       "      <td>1.0</td>\n",
       "      <td>8888.0</td>\n",
       "    </tr>\n",
       "    <tr>\n",
       "      <th>11</th>\n",
       "      <td>1.219917</td>\n",
       "      <td>17515.257261</td>\n",
       "      <td>1.0</td>\n",
       "      <td>13509.0</td>\n",
       "    </tr>\n",
       "    <tr>\n",
       "      <th>12</th>\n",
       "      <td>1.100402</td>\n",
       "      <td>18311.381526</td>\n",
       "      <td>1.0</td>\n",
       "      <td>13854.0</td>\n",
       "    </tr>\n",
       "  </tbody>\n",
       "</table>\n",
       "</div>"
      ],
      "text/plain": [
       "                   mean                          median         \n",
       "      number_of_changes         value number_of_changes    value\n",
       "month                                                           \n",
       "2              1.317365   7873.886228               1.0   7682.0\n",
       "3              1.237525   7629.804391               1.0   7165.0\n",
       "4              1.209163  10132.990040               1.0   8546.5\n",
       "5              1.193227  11925.207171               1.0   9310.5\n",
       "6              1.143426  13935.183267               1.0  10539.0\n",
       "7              1.163347  15370.874502               1.0  11179.5\n",
       "8              1.218557  16730.134021               1.0  11920.0\n",
       "9              1.119593  14791.987277               1.0  10426.0\n",
       "10             0.987578  13844.459627               1.0   8888.0\n",
       "11             1.219917  17515.257261               1.0  13509.0\n",
       "12             1.100402  18311.381526               1.0  13854.0"
      ]
     },
     "execution_count": 45,
     "metadata": {},
     "output_type": "execute_result"
    }
   ],
   "source": [
    "no_outs.pivot_table(index = 'month', values = ['value', 'number_of_changes'], aggfunc = ['mean', 'median'])"
   ]
  },
  {
   "cell_type": "markdown",
   "id": "67346163",
   "metadata": {},
   "source": [
    "Мы можем видеть, что в датасете без выбросов средние цены к концу года снизились, так как наибольшее количество выбросов было как раз в этот период."
   ]
  },
  {
   "cell_type": "markdown",
   "id": "fcfbb3d6",
   "metadata": {},
   "source": [
    "Список гипотез:\n",
    "\n",
    "1. Наибольшее относительное количество зарубежных рейсов было приобретено в феврале (так как в этом месяце наибольшее среднее количество пересадок).\n",
    "2. Большинство международных рейсов было куплено через сторонние агенства, а не через сайты авиакомпаний.(так как платформенный бизнес в индустрии трэвел-ритейла развивается в России в последние годы)\n",
    "3. Большинство билетов было приобретено в безвизовые страны, куда можно проехать с российским паспортом. (так как по статистике, только 29% населения РФ имеют действующий заграничный паспорт)\n",
    "4. С увеличением колличества пересадок, цена на билет также увеличивается.\n",
    "5. Самые дорогие билеты были приобретены с вылетом в последний квартал 2022 года.\n",
    "6. Билеты зарубеж дороже, чем билеты по России.\n",
    "7. Больше всего было потрачено денег на билеты в Турцию (основной пересадочный хаб)."
   ]
  },
  {
   "cell_type": "markdown",
   "id": "2cfa8d53",
   "metadata": {},
   "source": [
    "## Проверяем 1 гипотезу"
   ]
  },
  {
   "cell_type": "code",
   "execution_count": 47,
   "id": "ed799125",
   "metadata": {},
   "outputs": [],
   "source": [
    "def destination_type (dest):\n",
    "    if dest == 'RU':\n",
    "        return \"Russian\"\n",
    "    else:\n",
    "        return 'Foreign'"
   ]
  },
  {
   "cell_type": "code",
   "execution_count": 49,
   "id": "49173f7b",
   "metadata": {},
   "outputs": [],
   "source": [
    "df['destination type'] = df['iso_country'].apply(destination_type)"
   ]
  },
  {
   "cell_type": "code",
   "execution_count": 50,
   "id": "e01c0ebd",
   "metadata": {},
   "outputs": [],
   "source": [
    "df_1 = pd.DataFrame(df.groupby('month')['destination type'].value_counts())"
   ]
  },
  {
   "cell_type": "code",
   "execution_count": 51,
   "id": "a429e97a",
   "metadata": {},
   "outputs": [
    {
     "data": {
      "text/html": [
       "<div>\n",
       "<style scoped>\n",
       "    .dataframe tbody tr th:only-of-type {\n",
       "        vertical-align: middle;\n",
       "    }\n",
       "\n",
       "    .dataframe tbody tr th {\n",
       "        vertical-align: top;\n",
       "    }\n",
       "\n",
       "    .dataframe thead th {\n",
       "        text-align: right;\n",
       "    }\n",
       "</style>\n",
       "<table border=\"1\" class=\"dataframe\">\n",
       "  <thead>\n",
       "    <tr style=\"text-align: right;\">\n",
       "      <th></th>\n",
       "      <th></th>\n",
       "      <th>destination type</th>\n",
       "    </tr>\n",
       "    <tr>\n",
       "      <th>month</th>\n",
       "      <th>destination type</th>\n",
       "      <th></th>\n",
       "    </tr>\n",
       "  </thead>\n",
       "  <tbody>\n",
       "    <tr>\n",
       "      <th rowspan=\"2\" valign=\"top\">2</th>\n",
       "      <th>Foreign</th>\n",
       "      <td>400</td>\n",
       "    </tr>\n",
       "    <tr>\n",
       "      <th>Russian</th>\n",
       "      <td>101</td>\n",
       "    </tr>\n",
       "    <tr>\n",
       "      <th rowspan=\"2\" valign=\"top\">3</th>\n",
       "      <th>Foreign</th>\n",
       "      <td>397</td>\n",
       "    </tr>\n",
       "    <tr>\n",
       "      <th>Russian</th>\n",
       "      <td>104</td>\n",
       "    </tr>\n",
       "    <tr>\n",
       "      <th rowspan=\"2\" valign=\"top\">4</th>\n",
       "      <th>Foreign</th>\n",
       "      <td>403</td>\n",
       "    </tr>\n",
       "    <tr>\n",
       "      <th>Russian</th>\n",
       "      <td>99</td>\n",
       "    </tr>\n",
       "    <tr>\n",
       "      <th rowspan=\"2\" valign=\"top\">5</th>\n",
       "      <th>Foreign</th>\n",
       "      <td>403</td>\n",
       "    </tr>\n",
       "    <tr>\n",
       "      <th>Russian</th>\n",
       "      <td>99</td>\n",
       "    </tr>\n",
       "    <tr>\n",
       "      <th rowspan=\"2\" valign=\"top\">6</th>\n",
       "      <th>Foreign</th>\n",
       "      <td>404</td>\n",
       "    </tr>\n",
       "    <tr>\n",
       "      <th>Russian</th>\n",
       "      <td>98</td>\n",
       "    </tr>\n",
       "    <tr>\n",
       "      <th rowspan=\"2\" valign=\"top\">7</th>\n",
       "      <th>Foreign</th>\n",
       "      <td>403</td>\n",
       "    </tr>\n",
       "    <tr>\n",
       "      <th>Russian</th>\n",
       "      <td>99</td>\n",
       "    </tr>\n",
       "    <tr>\n",
       "      <th rowspan=\"2\" valign=\"top\">8</th>\n",
       "      <th>Foreign</th>\n",
       "      <td>408</td>\n",
       "    </tr>\n",
       "    <tr>\n",
       "      <th>Russian</th>\n",
       "      <td>94</td>\n",
       "    </tr>\n",
       "    <tr>\n",
       "      <th rowspan=\"2\" valign=\"top\">9</th>\n",
       "      <th>Foreign</th>\n",
       "      <td>334</td>\n",
       "    </tr>\n",
       "    <tr>\n",
       "      <th>Russian</th>\n",
       "      <td>82</td>\n",
       "    </tr>\n",
       "    <tr>\n",
       "      <th rowspan=\"2\" valign=\"top\">10</th>\n",
       "      <th>Foreign</th>\n",
       "      <td>258</td>\n",
       "    </tr>\n",
       "    <tr>\n",
       "      <th>Russian</th>\n",
       "      <td>76</td>\n",
       "    </tr>\n",
       "    <tr>\n",
       "      <th rowspan=\"2\" valign=\"top\">11</th>\n",
       "      <th>Foreign</th>\n",
       "      <td>214</td>\n",
       "    </tr>\n",
       "    <tr>\n",
       "      <th>Russian</th>\n",
       "      <td>47</td>\n",
       "    </tr>\n",
       "    <tr>\n",
       "      <th rowspan=\"2\" valign=\"top\">12</th>\n",
       "      <th>Foreign</th>\n",
       "      <td>223</td>\n",
       "    </tr>\n",
       "    <tr>\n",
       "      <th>Russian</th>\n",
       "      <td>54</td>\n",
       "    </tr>\n",
       "  </tbody>\n",
       "</table>\n",
       "</div>"
      ],
      "text/plain": [
       "                        destination type\n",
       "month destination type                  \n",
       "2     Foreign                        400\n",
       "      Russian                        101\n",
       "3     Foreign                        397\n",
       "      Russian                        104\n",
       "4     Foreign                        403\n",
       "      Russian                         99\n",
       "5     Foreign                        403\n",
       "      Russian                         99\n",
       "6     Foreign                        404\n",
       "      Russian                         98\n",
       "7     Foreign                        403\n",
       "      Russian                         99\n",
       "8     Foreign                        408\n",
       "      Russian                         94\n",
       "9     Foreign                        334\n",
       "      Russian                         82\n",
       "10    Foreign                        258\n",
       "      Russian                         76\n",
       "11    Foreign                        214\n",
       "      Russian                         47\n",
       "12    Foreign                        223\n",
       "      Russian                         54"
      ]
     },
     "execution_count": 51,
     "metadata": {},
     "output_type": "execute_result"
    }
   ],
   "source": [
    "df_1"
   ]
  },
  {
   "cell_type": "code",
   "execution_count": 52,
   "id": "0266d05a",
   "metadata": {},
   "outputs": [
    {
     "name": "stdout",
     "output_type": "stream",
     "text": [
      "destination type    79.840319\n",
      "dtype: float64\n",
      "destination type    79.241517\n",
      "dtype: float64\n",
      "destination type    80.278884\n",
      "dtype: float64\n",
      "destination type    80.278884\n",
      "dtype: float64\n",
      "destination type    80.478088\n",
      "dtype: float64\n",
      "destination type    80.278884\n",
      "dtype: float64\n",
      "destination type    81.2749\n",
      "dtype: float64\n",
      "destination type    80.288462\n",
      "dtype: float64\n",
      "destination type    77.245509\n",
      "dtype: float64\n",
      "destination type    81.992337\n",
      "dtype: float64\n",
      "destination type    80.505415\n",
      "dtype: float64\n"
     ]
    }
   ],
   "source": [
    "feb_av = (df_1.iloc[0]/(df_1.iloc[0] + df_1.iloc[1]))*100\n",
    "print(feb_av)\n",
    "mar_av = (df_1.iloc[2]/(df_1.iloc[2] + df_1.iloc[3]))*100\n",
    "print(mar_av)\n",
    "apr_av = (df_1.iloc[4]/(df_1.iloc[4] + df_1.iloc[5]))*100\n",
    "print(apr_av)\n",
    "may_av = (df_1.iloc[6]/(df_1.iloc[6] + df_1.iloc[7]))*100\n",
    "print(may_av)\n",
    "jun_av = (df_1.iloc[8]/(df_1.iloc[8] + df_1.iloc[9]))*100\n",
    "print(jun_av)\n",
    "jul_av = (df_1.iloc[10]/(df_1.iloc[10] + df_1.iloc[11]))*100\n",
    "print(jul_av)\n",
    "avg_av = (df_1.iloc[12]/(df_1.iloc[12] + df_1.iloc[13]))*100\n",
    "print(avg_av)\n",
    "sep_av = (df_1.iloc[14]/(df_1.iloc[14] + df_1.iloc[15]))*100\n",
    "print(sep_av)\n",
    "oct_av = (df_1.iloc[16]/(df_1.iloc[16] + df_1.iloc[17]))*100\n",
    "print(oct_av)\n",
    "nov_av = (df_1.iloc[18]/(df_1.iloc[18] + df_1.iloc[19]))*100\n",
    "print(nov_av)\n",
    "dec_av = (df_1.iloc[20]/(df_1.iloc[20] + df_1.iloc[21]))*100\n",
    "print(dec_av)"
   ]
  },
  {
   "cell_type": "markdown",
   "id": "c4a5b337",
   "metadata": {},
   "source": [
    "Таким образом, 1 гипотеза о том, что в феврале было наибольшее относительное количество зарубежных рейсов, не подтверждается, так как наибольшая относительная доля зарубежных рейсов была в августе (82,47%), а в феврале доля была 81,84%."
   ]
  },
  {
   "cell_type": "markdown",
   "id": "9cecf3be",
   "metadata": {},
   "source": [
    "## Проверим гипотезу 2"
   ]
  },
  {
   "cell_type": "code",
   "execution_count": 53,
   "id": "e9d7e91a",
   "metadata": {},
   "outputs": [],
   "source": [
    "def web_source (aggency):\n",
    "    if aggency == 'Rusline':\n",
    "        return 1\n",
    "    elif aggency == 'Utair':\n",
    "        return 1\n",
    "    elif aggency == 'Smartavia':\n",
    "        return 1\n",
    "    elif aggency == 'Red Wings':\n",
    "        return 1\n",
    "    elif aggency == 'Ural Airlines':\n",
    "        return 1\n",
    "    elif aggency == 'S7 Airlines':\n",
    "        return 1\n",
    "    elif aggency == 'Belavia':\n",
    "        return 1\n",
    "    elif aggency == 'Air Serbia':\n",
    "        return 1\n",
    "    elif aggency == 'FlyOne':\n",
    "        return 1\n",
    "    elif aggency == 'Azimuth':\n",
    "        return 1\n",
    "    elif aggency == 'ИрАэро':\n",
    "        return 1\n",
    "    elif aggency == 'KLM':\n",
    "        return 1\n",
    "    elif aggency == 'Uzbekistan airways':\n",
    "        return 1\n",
    "    elif aggency == 'AirFrance':\n",
    "        return 1\n",
    "    elif aggency == 'TAP Portugal':\n",
    "        return 1\n",
    "    elif aggency == 'Yamal.ru':\n",
    "        return 1\n",
    "    elif aggency == 'Flydubai':\n",
    "        return 1\n",
    "    elif aggency == 'Ethiopian Airlines':\n",
    "        return 1\n",
    "    elif aggency == 'AirArabia':\n",
    "        return 1\n",
    "    else:\n",
    "        return 0"
   ]
  },
  {
   "cell_type": "code",
   "execution_count": 54,
   "id": "8abc9a63",
   "metadata": {},
   "outputs": [],
   "source": [
    "df['airline_site'] = df['web_source'].apply(web_source)"
   ]
  },
  {
   "cell_type": "code",
   "execution_count": 55,
   "id": "c9a21ac6",
   "metadata": {},
   "outputs": [
    {
     "data": {
      "text/plain": [
       "destination type  airline_site\n",
       "Foreign           0               3667\n",
       "                  1                180\n",
       "Russian           0                746\n",
       "                  1                207\n",
       "Name: airline_site, dtype: int64"
      ]
     },
     "execution_count": 55,
     "metadata": {},
     "output_type": "execute_result"
    }
   ],
   "source": [
    "df.groupby('destination type')['airline_site'].value_counts()"
   ]
  },
  {
   "cell_type": "code",
   "execution_count": 56,
   "id": "e76b991e",
   "metadata": {},
   "outputs": [
    {
     "data": {
      "text/plain": [
       "<AxesSubplot:xlabel='destination type,airline_site'>"
      ]
     },
     "execution_count": 56,
     "metadata": {},
     "output_type": "execute_result"
    },
    {
     "data": {
      "image/png": "[encoded data removed]",
      "text/plain": [
       "<Figure size 432x288 with 1 Axes>"
      ]
     },
     "metadata": {
      "needs_background": "light"
     },
     "output_type": "display_data"
    }
   ],
   "source": [
    "df.groupby('destination type')['airline_site'].value_counts().plot(kind='bar')"
   ]
  },
  {
   "cell_type": "markdown",
   "id": "07bf5151",
   "metadata": {},
   "source": [
    "Таким образом, 2 гипотеза о том, что большиснтво международных рейсов было куплено через сторонние аггенства, а не через сайты авиакомпаний подтверждается, так как через сайты агенств-агрегаторов было куплено 3723 билета, а через сайты авиакомпаний напрямую - 195 билетов."
   ]
  },
  {
   "cell_type": "markdown",
   "id": "9d4f0c52",
   "metadata": {},
   "source": [
    "## Проверим 3 гипотезу"
   ]
  },
  {
   "cell_type": "markdown",
   "id": "6a7b45f6",
   "metadata": {},
   "source": [
    "Для начала найдём страны, в которые можно попасть без загрничного паспорта, это: Россия (RU), Беларусь(BY), Казахстан (KZ), Армения (AM), Киргизия (KG), Таджикистан (TJ)."
   ]
  },
  {
   "cell_type": "code",
   "execution_count": 57,
   "id": "cb3fd092",
   "metadata": {},
   "outputs": [],
   "source": [
    "def bezviz (country):\n",
    "    if country == 'RU':\n",
    "        return 'Нет'\n",
    "    elif country == 'BY':\n",
    "        return 'Нет'\n",
    "    elif country == 'KZ':\n",
    "        return 'Нет'\n",
    "    elif country == 'AM':\n",
    "        return 'Нет'\n",
    "    elif country == 'KG':\n",
    "        return 'Нет'\n",
    "    elif country == 'TJ':\n",
    "        return 'Нет'\n",
    "    else:\n",
    "        return 'Да'"
   ]
  },
  {
   "cell_type": "markdown",
   "id": "5165b9c0",
   "metadata": {},
   "source": [
    "Создадим отдельную колонку \"bezviz\" для таких стран."
   ]
  },
  {
   "cell_type": "code",
   "execution_count": 59,
   "id": "e67cb37e",
   "metadata": {},
   "outputs": [],
   "source": [
    "df['bezviz'] = df['iso_country'].apply(bezviz)"
   ]
  },
  {
   "cell_type": "code",
   "execution_count": 60,
   "id": "2b229a52",
   "metadata": {},
   "outputs": [
    {
     "data": {
      "text/plain": [
       "Да     3658\n",
       "Нет    1142\n",
       "Name: bezviz, dtype: int64"
      ]
     },
     "execution_count": 60,
     "metadata": {},
     "output_type": "execute_result"
    }
   ],
   "source": [
    "df['bezviz'].value_counts()"
   ]
  },
  {
   "cell_type": "code",
   "execution_count": 61,
   "id": "3d17a362",
   "metadata": {},
   "outputs": [
    {
     "data": {
      "text/plain": [
       "<AxesSubplot:title={'center':'Нужен ли загранпаспорт для полёта'}, ylabel='bezviz'>"
      ]
     },
     "execution_count": 61,
     "metadata": {},
     "output_type": "execute_result"
    },
    {
     "data": {
      "image/png": "[encoded data removed]",
      "text/plain": [
       "<Figure size 432x288 with 1 Axes>"
      ]
     },
     "metadata": {},
     "output_type": "display_data"
    }
   ],
   "source": [
    "colors = ['#2203FF', 'red']\n",
    "df['bezviz'].value_counts().plot(kind='pie', \n",
    "                                                   colors = colors, title = 'Нужен ли загранпаспорт для полёта', \n",
    "                                                   autopct = '%.1f%%', startangle = 360, explode = [0.3, 0], shadow = True)"
   ]
  },
  {
   "cell_type": "markdown",
   "id": "084ef28b",
   "metadata": {},
   "source": [
    "Таким образом, 3 гипотеза о том, что большиснтво билетов были куплены в страны, где не нужен заграничный паспорт, не подтверждается, так как в такие страны было куплено 1142 билета, в то время, как в страны, куда необходим заграничный паспорт, было куплено 3658 билетов."
   ]
  },
  {
   "cell_type": "markdown",
   "id": "5d65ccc9",
   "metadata": {},
   "source": [
    "## Проверим 4 гипотезу"
   ]
  },
  {
   "cell_type": "code",
   "execution_count": 62,
   "id": "e0eaa229",
   "metadata": {},
   "outputs": [
    {
     "data": {
      "text/plain": [
       "0.429423451174591"
      ]
     },
     "execution_count": 62,
     "metadata": {},
     "output_type": "execute_result"
    }
   ],
   "source": [
    "df['value'].corr(df['number_of_changes'])"
   ]
  },
  {
   "cell_type": "markdown",
   "id": "f15ee577",
   "metadata": {},
   "source": [
    "Таким образом, мы можем наблюдать умеренную корреляцию между количеством пересадок и ценой билета (к-т корреляции Пирсона равен 0,43)"
   ]
  },
  {
   "cell_type": "code",
   "execution_count": 63,
   "id": "3d05a978",
   "metadata": {},
   "outputs": [
    {
     "data": {
      "text/plain": [
       "<AxesSubplot:xlabel='number_of_changes', ylabel='value'>"
      ]
     },
     "execution_count": 63,
     "metadata": {},
     "output_type": "execute_result"
    },
    {
     "data": {
      "image/png": "[encoded data removed]",
      "text/plain": [
       "<Figure size 432x288 with 1 Axes>"
      ]
     },
     "metadata": {
      "needs_background": "light"
     },
     "output_type": "display_data"
    }
   ],
   "source": [
    "df.plot('number_of_changes', 'value', kind = 'scatter')"
   ]
  },
  {
   "cell_type": "markdown",
   "id": "2fb84fef",
   "metadata": {},
   "source": [
    "Это также заметно на графике рассеивания выше: цена увеличивается сначала: от 0 до 2 пересадок с увеличением их количества цена билета растёт, с 3 пересадки и более цена на билет снижается."
   ]
  },
  {
   "cell_type": "markdown",
   "id": "865a2ec9",
   "metadata": {},
   "source": [
    "Таким образом, 4 гипотеза о том, что с увеличением количества пересадок цена билета увеличивается, не подтверждается, так как мы можем видеть, к-т корреляции Пирсона равен 0,43, что свидетельствует о наличии умеренной связи. Мы можем видеть, что с 3 пересадкой и более цена на билет снижается."
   ]
  },
  {
   "cell_type": "markdown",
   "id": "aaf78685",
   "metadata": {},
   "source": [
    "## Проверяем 5 гипотезу"
   ]
  },
  {
   "cell_type": "markdown",
   "id": "c5b886cf",
   "metadata": {},
   "source": [
    "Для начала создадим доролнительную колонку, сгруппировав билеты по кварталам."
   ]
  },
  {
   "cell_type": "code",
   "execution_count": 66,
   "id": "ae434722",
   "metadata": {},
   "outputs": [],
   "source": [
    "def quarter (month):\n",
    "    if 1<=month<=3:\n",
    "        return 1\n",
    "    if 4<=month<=6:\n",
    "        return 2\n",
    "    if 7<=month<=9:\n",
    "        return 3\n",
    "    if 10<=month<=12:\n",
    "        return 4"
   ]
  },
  {
   "cell_type": "code",
   "execution_count": 67,
   "id": "4006c7e5",
   "metadata": {},
   "outputs": [],
   "source": [
    "df['quarter'] = df['month'].apply(quarter)"
   ]
  },
  {
   "cell_type": "code",
   "execution_count": 68,
   "id": "d127f23b",
   "metadata": {},
   "outputs": [
    {
     "data": {
      "text/plain": [
       "<AxesSubplot:xlabel='quarter'>"
      ]
     },
     "execution_count": 68,
     "metadata": {},
     "output_type": "execute_result"
    },
    {
     "data": {
      "image/png": "[encoded data removed]",
      "text/plain": [
       "<Figure size 432x288 with 1 Axes>"
      ]
     },
     "metadata": {
      "needs_background": "light"
     },
     "output_type": "display_data"
    }
   ],
   "source": [
    "df.groupby('quarter')['value'].mean().plot()"
   ]
  },
  {
   "cell_type": "markdown",
   "id": "964f95cf",
   "metadata": {},
   "source": [
    "Таким образом, 5 гипотеза о том, что в 4 кваратале в среднем приобретенные билеты были дороже всего, подтверждается, так как мы можем видеть, что с течением года средняя цена на билеты росла и в 4 квартале достигла своего пика."
   ]
  },
  {
   "cell_type": "markdown",
   "id": "7ff222bc",
   "metadata": {},
   "source": [
    "## Проверим гипотезу 6"
   ]
  },
  {
   "cell_type": "code",
   "execution_count": 69,
   "id": "b5cf3fe2",
   "metadata": {},
   "outputs": [
    {
     "data": {
      "text/plain": [
       "destination type\n",
       "Foreign    16082.597868\n",
       "Russian     6160.847849\n",
       "Name: value, dtype: float64"
      ]
     },
     "execution_count": 69,
     "metadata": {},
     "output_type": "execute_result"
    }
   ],
   "source": [
    "df.groupby('destination type')['value'].mean()"
   ]
  },
  {
   "cell_type": "code",
   "execution_count": 70,
   "id": "ea24d4c5",
   "metadata": {},
   "outputs": [
    {
     "data": {
      "text/plain": [
       "<AxesSubplot:xlabel='destination type'>"
      ]
     },
     "execution_count": 70,
     "metadata": {},
     "output_type": "execute_result"
    },
    {
     "data": {
      "image/png": "[encoded data removed]",
      "text/plain": [
       "<Figure size 432x288 with 1 Axes>"
      ]
     },
     "metadata": {
      "needs_background": "light"
     },
     "output_type": "display_data"
    }
   ],
   "source": [
    "df.groupby('destination type')['value'].mean().plot(kind='bar')"
   ]
  },
  {
   "cell_type": "markdown",
   "id": "15380551",
   "metadata": {},
   "source": [
    "Таким образом, 6 гипотеза о том, что билеты зарубеж дороже, чем билеты по России, подтверждается, так как мы можем видеть, что средняя цена на билеты зарубеж составила 15950,16 руб, в то время как средняя цена на внутрироссийские рейсы составила 5950,46 руб."
   ]
  },
  {
   "cell_type": "code",
   "execution_count": 71,
   "id": "856bdd95",
   "metadata": {},
   "outputs": [
    {
     "name": "stdout",
     "output_type": "stream",
     "text": [
      "Requirement already satisfied: plotly==4.14.3 in c:\\anaconda3\\lib\\site-packages (4.14.3)\n",
      "Requirement already satisfied: six in c:\\anaconda3\\lib\\site-packages (from plotly==4.14.3) (1.16.0)\n",
      "Requirement already satisfied: retrying>=1.3.3 in c:\\anaconda3\\lib\\site-packages (from plotly==4.14.3) (1.3.3)\n"
     ]
    }
   ],
   "source": [
    "!pip install plotly==4.14.3 \n",
    "import plotly.graph_objects as go\n",
    "import plotly.express as px"
   ]
  },
  {
   "cell_type": "markdown",
   "id": "a6b28071",
   "metadata": {},
   "source": [
    "## Проверяем 1 гипотезу"
   ]
  },
  {
   "cell_type": "code",
   "execution_count": 90,
   "id": "04496c61",
   "metadata": {},
   "outputs": [
    {
     "name": "stderr",
     "output_type": "stream",
     "text": [
      "C:\\Users\\Юрий\\AppData\\Local\\Temp\\ipykernel_8932\\273831694.py:1: FutureWarning: Indexing with multiple keys (implicitly converted to a tuple of keys) will be deprecated, use a list instead.\n",
      "  (df.groupby('iso_country')['value', 'destination'].sum().sort_values(by = ['value'], ascending = False))\n"
     ]
    },
    {
     "data": {
      "text/html": [
       "<div>\n",
       "<style scoped>\n",
       "    .dataframe tbody tr th:only-of-type {\n",
       "        vertical-align: middle;\n",
       "    }\n",
       "\n",
       "    .dataframe tbody tr th {\n",
       "        vertical-align: top;\n",
       "    }\n",
       "\n",
       "    .dataframe thead th {\n",
       "        text-align: right;\n",
       "    }\n",
       "</style>\n",
       "<table border=\"1\" class=\"dataframe\">\n",
       "  <thead>\n",
       "    <tr style=\"text-align: right;\">\n",
       "      <th></th>\n",
       "      <th>value</th>\n",
       "    </tr>\n",
       "    <tr>\n",
       "      <th>iso_country</th>\n",
       "      <th></th>\n",
       "    </tr>\n",
       "  </thead>\n",
       "  <tbody>\n",
       "    <tr>\n",
       "      <th>US</th>\n",
       "      <td>5983617.0</td>\n",
       "    </tr>\n",
       "    <tr>\n",
       "      <th>RU</th>\n",
       "      <td>5871288.0</td>\n",
       "    </tr>\n",
       "    <tr>\n",
       "      <th>IN</th>\n",
       "      <td>1967940.0</td>\n",
       "    </tr>\n",
       "    <tr>\n",
       "      <th>CN</th>\n",
       "      <td>1832281.0</td>\n",
       "    </tr>\n",
       "    <tr>\n",
       "      <th>TR</th>\n",
       "      <td>1664548.0</td>\n",
       "    </tr>\n",
       "    <tr>\n",
       "      <th>...</th>\n",
       "      <td>...</td>\n",
       "    </tr>\n",
       "    <tr>\n",
       "      <th>GL</th>\n",
       "      <td>31232.0</td>\n",
       "    </tr>\n",
       "    <tr>\n",
       "      <th>BW</th>\n",
       "      <td>31033.0</td>\n",
       "    </tr>\n",
       "    <tr>\n",
       "      <th>MM</th>\n",
       "      <td>27963.0</td>\n",
       "    </tr>\n",
       "    <tr>\n",
       "      <th>GM</th>\n",
       "      <td>22683.0</td>\n",
       "    </tr>\n",
       "    <tr>\n",
       "      <th>GG</th>\n",
       "      <td>11257.0</td>\n",
       "    </tr>\n",
       "  </tbody>\n",
       "</table>\n",
       "<p>166 rows × 1 columns</p>\n",
       "</div>"
      ],
      "text/plain": [
       "                 value\n",
       "iso_country           \n",
       "US           5983617.0\n",
       "RU           5871288.0\n",
       "IN           1967940.0\n",
       "CN           1832281.0\n",
       "TR           1664548.0\n",
       "...                ...\n",
       "GL             31232.0\n",
       "BW             31033.0\n",
       "MM             27963.0\n",
       "GM             22683.0\n",
       "GG             11257.0\n",
       "\n",
       "[166 rows x 1 columns]"
      ]
     },
     "execution_count": 90,
     "metadata": {},
     "output_type": "execute_result"
    }
   ],
   "source": [
    "(df.groupby('iso_country')['value', 'destination'].sum().sort_values(by = ['value'], ascending = False))"
   ]
  },
  {
   "cell_type": "markdown",
   "id": "f5c9dc85",
   "metadata": {},
   "source": [
    "Таким образом, гипотеза 7 не подтвердилась: больше всего денег было потрачено на авиабилеты в США (US - ISO-2)"
   ]
  }
 ],
 "metadata": {
  "kernelspec": {
   "display_name": "Python 3 (ipykernel)",
   "language": "python",
   "name": "python3"
  },
  "language_info": {
   "codemirror_mode": {
    "name": "ipython",
    "version": 3
   },
   "file_extension": ".py",
   "mimetype": "text/x-python",
   "name": "python",
   "nbconvert_exporter": "python",
   "pygments_lexer": "ipython3",
   "version": "3.9.12"
  }
 },
 "nbformat": 4,
 "nbformat_minor": 5
}
